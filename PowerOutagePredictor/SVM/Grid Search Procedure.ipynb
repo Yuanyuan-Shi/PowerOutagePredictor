{
 "cells": [
  {
   "cell_type": "markdown",
   "metadata": {},
   "source": [
    "# Grid Search\n",
    "\n",
    "The SVM classifier requires two regularization parameters, C and gamma. To tune these parameters, we need to do a grid search. Scikit-learn has a built in grid search function, but it only reports overall correctness of the predictions, and we want more detailed information such as:\n",
    "* How good is the model at predicting bad outages (3 - 7 outages)?\n",
    "* How good is the model at predicting extreme outages (8+ outages)?\n",
    "* How often does the model give false positives?\n",
    "* How does all of this relate to each other and overall correctness?\n",
    "\n",
    "To do this, we implement a custom grid search. First, import the appropriate modules."
   ]
  },
  {
   "cell_type": "code",
   "execution_count": 1,
   "metadata": {
    "collapsed": true
   },
   "outputs": [],
   "source": [
    "from sklearn.svm import SVC\n",
    "import numpy as np\n",
    "import pandas as pd\n",
    "from sklearn.preprocessing import StandardScaler\n",
    "from sklearn.model_selection import ShuffleSplit\n",
    "from matplotlib import pyplot as plt\n",
    "%matplotlib inline"
   ]
  },
  {
   "cell_type": "markdown",
   "metadata": {},
   "source": [
    "Now we need to import the appropriate dataset for SVM."
   ]
  },
  {
   "cell_type": "code",
   "execution_count": 2,
   "metadata": {
    "collapsed": false
   },
   "outputs": [],
   "source": [
    "data = pd.read_csv(\"../../Data/WeatherOutages_SVM.csv\")"
   ]
  },
  {
   "cell_type": "code",
   "execution_count": 3,
   "metadata": {
    "collapsed": false
   },
   "outputs": [
    {
     "data": {
      "text/html": [
       "<div>\n",
       "<table border=\"1\" class=\"dataframe\">\n",
       "  <thead>\n",
       "    <tr style=\"text-align: right;\">\n",
       "      <th></th>\n",
       "      <th>Total_outages</th>\n",
       "      <th>Day_length_hr</th>\n",
       "      <th>Avg_Temp_F</th>\n",
       "      <th>Avg_humidity_percent</th>\n",
       "      <th>Max_windspeed_mph</th>\n",
       "      <th>Avg_windspeed_mph</th>\n",
       "      <th>Max_windgust_mph</th>\n",
       "      <th>Precipitation_in</th>\n",
       "    </tr>\n",
       "  </thead>\n",
       "  <tbody>\n",
       "    <tr>\n",
       "      <th>0</th>\n",
       "      <td>0</td>\n",
       "      <td>12.783333</td>\n",
       "      <td>58</td>\n",
       "      <td>89</td>\n",
       "      <td>8</td>\n",
       "      <td>2</td>\n",
       "      <td>9</td>\n",
       "      <td>0.01</td>\n",
       "    </tr>\n",
       "    <tr>\n",
       "      <th>1</th>\n",
       "      <td>2</td>\n",
       "      <td>12.716667</td>\n",
       "      <td>62</td>\n",
       "      <td>69</td>\n",
       "      <td>8</td>\n",
       "      <td>4</td>\n",
       "      <td>9</td>\n",
       "      <td>0.00</td>\n",
       "    </tr>\n",
       "    <tr>\n",
       "      <th>2</th>\n",
       "      <td>1</td>\n",
       "      <td>12.666667</td>\n",
       "      <td>64</td>\n",
       "      <td>74</td>\n",
       "      <td>16</td>\n",
       "      <td>7</td>\n",
       "      <td>25</td>\n",
       "      <td>0.00</td>\n",
       "    </tr>\n",
       "    <tr>\n",
       "      <th>3</th>\n",
       "      <td>0</td>\n",
       "      <td>12.616667</td>\n",
       "      <td>71</td>\n",
       "      <td>66</td>\n",
       "      <td>17</td>\n",
       "      <td>12</td>\n",
       "      <td>9</td>\n",
       "      <td>0.00</td>\n",
       "    </tr>\n",
       "    <tr>\n",
       "      <th>4</th>\n",
       "      <td>1</td>\n",
       "      <td>12.550000</td>\n",
       "      <td>66</td>\n",
       "      <td>79</td>\n",
       "      <td>12</td>\n",
       "      <td>5</td>\n",
       "      <td>9</td>\n",
       "      <td>0.00</td>\n",
       "    </tr>\n",
       "  </tbody>\n",
       "</table>\n",
       "</div>"
      ],
      "text/plain": [
       "   Total_outages  Day_length_hr  Avg_Temp_F  Avg_humidity_percent  \\\n",
       "0              0      12.783333          58                    89   \n",
       "1              2      12.716667          62                    69   \n",
       "2              1      12.666667          64                    74   \n",
       "3              0      12.616667          71                    66   \n",
       "4              1      12.550000          66                    79   \n",
       "\n",
       "   Max_windspeed_mph  Avg_windspeed_mph  Max_windgust_mph  Precipitation_in  \n",
       "0                  8                  2                 9              0.01  \n",
       "1                  8                  4                 9              0.00  \n",
       "2                 16                  7                25              0.00  \n",
       "3                 17                 12                 9              0.00  \n",
       "4                 12                  5                 9              0.00  "
      ]
     },
     "execution_count": 3,
     "metadata": {},
     "output_type": "execute_result"
    }
   ],
   "source": [
    "data.head()"
   ]
  },
  {
   "cell_type": "markdown",
   "metadata": {},
   "source": [
    "Classify the number of outages into 3 categories:\n",
    "* 0: 0 - 2 outages (normal)\n",
    "* 1: 3 - 7 outages (bad)\n",
    "* 2: 8+ outages (extreme)"
   ]
  },
  {
   "cell_type": "code",
   "execution_count": 4,
   "metadata": {
    "collapsed": true
   },
   "outputs": [],
   "source": [
    "for i in range(data.shape[0]):\n",
    "    if data.iloc[i].Total_outages < 3:\n",
    "        data.loc[i, \"outage_class\"] = int(0)\n",
    "    elif data.iloc[i].Total_outages > 7:\n",
    "        data.loc[i, \"outage_class\"] = int(2)\n",
    "    else:\n",
    "        data.loc[i, \"outage_class\"] = int(1)"
   ]
  },
  {
   "cell_type": "code",
   "execution_count": 5,
   "metadata": {
    "collapsed": false
   },
   "outputs": [
    {
     "data": {
      "text/html": [
       "<div>\n",
       "<table border=\"1\" class=\"dataframe\">\n",
       "  <thead>\n",
       "    <tr style=\"text-align: right;\">\n",
       "      <th></th>\n",
       "      <th>Total_outages</th>\n",
       "      <th>Day_length_hr</th>\n",
       "      <th>Avg_Temp_F</th>\n",
       "      <th>Avg_humidity_percent</th>\n",
       "      <th>Max_windspeed_mph</th>\n",
       "      <th>Avg_windspeed_mph</th>\n",
       "      <th>Max_windgust_mph</th>\n",
       "      <th>Precipitation_in</th>\n",
       "      <th>outage_class</th>\n",
       "    </tr>\n",
       "  </thead>\n",
       "  <tbody>\n",
       "    <tr>\n",
       "      <th>0</th>\n",
       "      <td>0</td>\n",
       "      <td>12.783333</td>\n",
       "      <td>58</td>\n",
       "      <td>89</td>\n",
       "      <td>8</td>\n",
       "      <td>2</td>\n",
       "      <td>9</td>\n",
       "      <td>0.01</td>\n",
       "      <td>0.0</td>\n",
       "    </tr>\n",
       "    <tr>\n",
       "      <th>1</th>\n",
       "      <td>2</td>\n",
       "      <td>12.716667</td>\n",
       "      <td>62</td>\n",
       "      <td>69</td>\n",
       "      <td>8</td>\n",
       "      <td>4</td>\n",
       "      <td>9</td>\n",
       "      <td>0.00</td>\n",
       "      <td>0.0</td>\n",
       "    </tr>\n",
       "    <tr>\n",
       "      <th>2</th>\n",
       "      <td>1</td>\n",
       "      <td>12.666667</td>\n",
       "      <td>64</td>\n",
       "      <td>74</td>\n",
       "      <td>16</td>\n",
       "      <td>7</td>\n",
       "      <td>25</td>\n",
       "      <td>0.00</td>\n",
       "      <td>0.0</td>\n",
       "    </tr>\n",
       "    <tr>\n",
       "      <th>3</th>\n",
       "      <td>0</td>\n",
       "      <td>12.616667</td>\n",
       "      <td>71</td>\n",
       "      <td>66</td>\n",
       "      <td>17</td>\n",
       "      <td>12</td>\n",
       "      <td>9</td>\n",
       "      <td>0.00</td>\n",
       "      <td>0.0</td>\n",
       "    </tr>\n",
       "    <tr>\n",
       "      <th>4</th>\n",
       "      <td>1</td>\n",
       "      <td>12.550000</td>\n",
       "      <td>66</td>\n",
       "      <td>79</td>\n",
       "      <td>12</td>\n",
       "      <td>5</td>\n",
       "      <td>9</td>\n",
       "      <td>0.00</td>\n",
       "      <td>0.0</td>\n",
       "    </tr>\n",
       "  </tbody>\n",
       "</table>\n",
       "</div>"
      ],
      "text/plain": [
       "   Total_outages  Day_length_hr  Avg_Temp_F  Avg_humidity_percent  \\\n",
       "0              0      12.783333          58                    89   \n",
       "1              2      12.716667          62                    69   \n",
       "2              1      12.666667          64                    74   \n",
       "3              0      12.616667          71                    66   \n",
       "4              1      12.550000          66                    79   \n",
       "\n",
       "   Max_windspeed_mph  Avg_windspeed_mph  Max_windgust_mph  Precipitation_in  \\\n",
       "0                  8                  2                 9              0.01   \n",
       "1                  8                  4                 9              0.00   \n",
       "2                 16                  7                25              0.00   \n",
       "3                 17                 12                 9              0.00   \n",
       "4                 12                  5                 9              0.00   \n",
       "\n",
       "   outage_class  \n",
       "0           0.0  \n",
       "1           0.0  \n",
       "2           0.0  \n",
       "3           0.0  \n",
       "4           0.0  "
      ]
     },
     "execution_count": 5,
     "metadata": {},
     "output_type": "execute_result"
    }
   ],
   "source": [
    "data.head()"
   ]
  },
  {
   "cell_type": "markdown",
   "metadata": {},
   "source": [
    "Finally we do the grid search. The following code will perform a grid search. Parameters such as the exploration values of C and gamma, etc can be changed. But the following was what was used in this project."
   ]
  },
  {
   "cell_type": "code",
   "execution_count": 35,
   "metadata": {
    "collapsed": false
   },
   "outputs": [],
   "source": [
    "# Define variables\n",
    "xTrain = None\n",
    "yTrain = None\n",
    "xTest = None\n",
    "yTest = None\n",
    "\n",
    "# Define objects and parameters. Here, we have defined the test data set to be 20%, balanced weight for SVM.\n",
    "# And we are exploring C and gamma from 10e-5 to 10e5\n",
    "nSplits = 10\n",
    "scaler = StandardScaler()\n",
    "shuffleSplitter = ShuffleSplit(n_splits=nSplits, test_size=0.2)\n",
    "classifier = SVC(cache_size=1000.0, class_weight=\"balanced\", probability=True)\n",
    "exploreC = np.logspace(-5, 5, 1)\n",
    "exploreGamma = np.logspace(-5, 5, 1)\n",
    "outputFilename = \"filename.csv\"\n",
    "df = pd.DataFrame()\n",
    "\n",
    "# For each values of C and gamma we want to explore, we will shuffle split 10 times, store them in an empty array,\n",
    "# and then average them.\n",
    "for cValue in exploreC:\n",
    "    for gammaValue in exploreGamma:\n",
    "        classifier.set_params(C = cValue, gamma = gammaValue)\n",
    "        allCorrectness = []\n",
    "        allFalseNegativesBad = []\n",
    "        allFalseNegativesExtreme = []\n",
    "        allFalsePositives = []\n",
    "        allBadDays = []\n",
    "        allExtremeDays = []\n",
    "        \n",
    "        # Separate testing and training data.\n",
    "        for train, test in shuffleSplitter.split(data):\n",
    "            overallCorrectness = 0\n",
    "            falseNegativesBad = 0\n",
    "            falseNegativesExtreme = 0\n",
    "            falsePositives = 0\n",
    "            badDays = 0\n",
    "            extremeDays = 0\n",
    "            xTrain = scaler.fit_transform(data.iloc[train, 1:-1])\n",
    "            yTrain = data.iloc[train, -1]\n",
    "            xTest = scaler.transform(data.iloc[test, 1:-1])\n",
    "            yTest = data.iloc[test, -1]\n",
    "            classifier.fit(xTrain, yTrain)\n",
    "            yPredict = classifier.predict(xTest)\n",
    "            yTest = yTest.tolist()\n",
    "            yPredict = yPredict.tolist()\n",
    "            \n",
    "            #Compare testing data and predicted data from model. Tally up the results.\n",
    "            for i in range(len(yTest)):\n",
    "                if yTest[i] == 1:\n",
    "                    badDays += 1\n",
    "                elif yTest[i] == 2:\n",
    "                    extremeDays += 1\n",
    "                if yTest[i] == yPredict[i]:\n",
    "                    overallCorrectness += 1\n",
    "                elif yTest[i] < yPredict[i]:\n",
    "                    falsePositives += 1\n",
    "                elif yTest[i] == 1 and yPredict[i] == 0:\n",
    "                    falseNegativesBad += 1\n",
    "                else: # yTest[i] == 2 and yPredict[i] != 2\n",
    "                    falseNegativesExtreme += 1\n",
    "            allCorrectness.append(overallCorrectness / len(yTest))\n",
    "            allBadDays.append(badDays)\n",
    "            allExtremeDays.append(extremeDays)\n",
    "            if badDays != 0:\n",
    "                allFalseNegativesBad.append(falseNegativesBad / badDays)\n",
    "                allFalsePositives.append(falsePositives / (badDays + extremeDays))\n",
    "            else:\n",
    "                allFalseNegativesBad.append(0)\n",
    "                allFalsePositives.append(0)\n",
    "            if extremeDays != 0:\n",
    "                allFalseNegativesExtreme.append(falseNegativesExtreme / extremeDays)\n",
    "            else:\n",
    "                allFalseNegativesExtreme.append(0)\n",
    "            \n",
    "        df = df.append({\"C\": cValue, \"gamma\": gammaValue, \"Overall_Correctness\": np.mean(allCorrectness),\n",
    "                         \"False_Negatives_Extreme\": np.mean(allFalseNegativesExtreme),\n",
    "                        \"False_Negatives_Bad\": np.mean(allFalseNegativesBad),\n",
    "                        \"False_Positives\": np.mean(allFalsePositives),\n",
    "                       \"Bad_Days\": np.mean(allBadDays),\n",
    "                        \"Extreme_Days\": np.mean(allExtremeDays)}, ignore_index = True)\n",
    "df.to_csv(outputFilename)"
   ]
  },
  {
   "cell_type": "markdown",
   "metadata": {},
   "source": [
    "In the output CSV note that:\n",
    "* False negatives extreme is the number of false negatives on extreme days normalized by the number of extreme days\n",
    "* False negatives bad is the number of false negatives on bad days normalized by the number of bad days\n",
    "* False positives is the number of false posittives normalized by the sum of bad and extreme days. This value can be more than 1 if there are more false positives than there are of actual bad and extreme days\n",
    "* Bad days is the number of bad days\n",
    "* Extreme days is the number of extreme days\n",
    "* Overall correctness is the rate at which the model correctly predicts the classification of outages.\n",
    "\n",
    "Of course, all these numbers are averaged over the 10 shuffle splits."
   ]
  },
  {
   "cell_type": "markdown",
   "metadata": {},
   "source": [
    "### Visualizing grid search\n",
    "We can plot the results of the grid search to visually inspect the SVM model. Here, we demonstrate plotting the overall correctness of the model, though this code snippet can be easily changed. For demonstration, we load the a past grid search. The code snippet can spit out a png image if the last line is uncommented."
   ]
  },
  {
   "cell_type": "code",
   "execution_count": 6,
   "metadata": {
    "collapsed": false
   },
   "outputs": [
    {
     "data": {
      "text/html": [
       "<div>\n",
       "<table border=\"1\" class=\"dataframe\">\n",
       "  <thead>\n",
       "    <tr style=\"text-align: right;\">\n",
       "      <th></th>\n",
       "      <th>C</th>\n",
       "      <th>gamma</th>\n",
       "      <th>False_Negatives_Bad</th>\n",
       "      <th>False_Negatives_Extreme</th>\n",
       "      <th>False_Positives</th>\n",
       "      <th>Overall_Correctness</th>\n",
       "      <th>Bad_Days</th>\n",
       "      <th>Extreme_Days</th>\n",
       "    </tr>\n",
       "  </thead>\n",
       "  <tbody>\n",
       "    <tr>\n",
       "      <th>0</th>\n",
       "      <td>0.00001</td>\n",
       "      <td>0.00001</td>\n",
       "      <td>0.3</td>\n",
       "      <td>0.5</td>\n",
       "      <td>5.745204</td>\n",
       "      <td>0.293027</td>\n",
       "      <td>135.2</td>\n",
       "      <td>14.1</td>\n",
       "    </tr>\n",
       "    <tr>\n",
       "      <th>1</th>\n",
       "      <td>0.00001</td>\n",
       "      <td>0.00010</td>\n",
       "      <td>0.6</td>\n",
       "      <td>0.8</td>\n",
       "      <td>3.308781</td>\n",
       "      <td>0.552162</td>\n",
       "      <td>135.2</td>\n",
       "      <td>13.7</td>\n",
       "    </tr>\n",
       "    <tr>\n",
       "      <th>2</th>\n",
       "      <td>0.00001</td>\n",
       "      <td>0.00100</td>\n",
       "      <td>0.5</td>\n",
       "      <td>0.9</td>\n",
       "      <td>3.901914</td>\n",
       "      <td>0.481995</td>\n",
       "      <td>135.2</td>\n",
       "      <td>14.4</td>\n",
       "    </tr>\n",
       "    <tr>\n",
       "      <th>3</th>\n",
       "      <td>0.00001</td>\n",
       "      <td>0.01000</td>\n",
       "      <td>0.3</td>\n",
       "      <td>0.8</td>\n",
       "      <td>5.427809</td>\n",
       "      <td>0.323036</td>\n",
       "      <td>135.2</td>\n",
       "      <td>14.5</td>\n",
       "    </tr>\n",
       "    <tr>\n",
       "      <th>4</th>\n",
       "      <td>0.00001</td>\n",
       "      <td>0.10000</td>\n",
       "      <td>0.8</td>\n",
       "      <td>1.0</td>\n",
       "      <td>1.530679</td>\n",
       "      <td>0.728332</td>\n",
       "      <td>135.2</td>\n",
       "      <td>13.3</td>\n",
       "    </tr>\n",
       "  </tbody>\n",
       "</table>\n",
       "</div>"
      ],
      "text/plain": [
       "         C    gamma  False_Negatives_Bad  False_Negatives_Extreme  \\\n",
       "0  0.00001  0.00001                  0.3                      0.5   \n",
       "1  0.00001  0.00010                  0.6                      0.8   \n",
       "2  0.00001  0.00100                  0.5                      0.9   \n",
       "3  0.00001  0.01000                  0.3                      0.8   \n",
       "4  0.00001  0.10000                  0.8                      1.0   \n",
       "\n",
       "   False_Positives  Overall_Correctness  Bad_Days  Extreme_Days  \n",
       "0         5.745204             0.293027     135.2          14.1  \n",
       "1         3.308781             0.552162     135.2          13.7  \n",
       "2         3.901914             0.481995     135.2          14.4  \n",
       "3         5.427809             0.323036     135.2          14.5  \n",
       "4         1.530679             0.728332     135.2          13.3  "
      ]
     },
     "execution_count": 6,
     "metadata": {},
     "output_type": "execute_result"
    }
   ],
   "source": [
    "gridSearch = pd.read_csv(\"gridSearch.csv\")\n",
    "gridSearch.head()"
   ]
  },
  {
   "cell_type": "code",
   "execution_count": 7,
   "metadata": {
    "collapsed": false
   },
   "outputs": [
    {
     "data": {
      "image/png": "[encoded data removed]",
      "text/plain": [
       "<matplotlib.figure.Figure at 0x1b40d8550f0>"
      ]
     },
     "metadata": {},
     "output_type": "display_data"
    }
   ],
   "source": [
    "N=11\n",
    "M=11 \n",
    "\n",
    "X=gridSearch.C.values.reshape([N,M]) #output = NxM matrix value of our X's \n",
    "Y=gridSearch.gamma.values.reshape([N,M]) #output = NxM matrix of our Y's \n",
    "Z=gridSearch.Overall_Correctness.values.reshape([N,M]) #output = NxM matrix of unique z values\n",
    "\n",
    "spacer = 0.1\n",
    "lines = 10\n",
    "levels=np.linspace(0,lines*spacer,num=(lines+1),endpoint=True)\n",
    "\n",
    "fig=plt.figure(figsize=(6,5)) \n",
    "ax = fig.add_subplot(111)\n",
    "plt.contourf(X,Y,Z, levels, cmap=plt.cm.bone)\n",
    "plt.xlabel(\"C\")\n",
    "plt.ylabel(r\"$\\gamma$\")\n",
    "plt.xscale(\"log\")\n",
    "plt.yscale(\"log\")\n",
    "plt.colorbar()\n",
    "plt.rcParams.update({'font.size': 16, \"axes.labelsize\": \"large\"})\n",
    "for label in ax.xaxis.get_ticklabels()[::2]:\n",
    "    label.set_visible(False)\n",
    "for label in ax.yaxis.get_ticklabels()[::2]:\n",
    "    label.set_visible(False)\n",
    "plt.tight_layout()\n",
    "# plt.savefig(\"GridSearch_OverallCorrectness.png\")"
   ]
  },
  {
   "cell_type": "markdown",
   "metadata": {
    "collapsed": true
   },
   "source": [
    "For the actual python package, we chose C = 10.0 and gamma = 0.01. This can be easily changed in the future."
   ]
  },
  {
   "cell_type": "code",
   "execution_count": null,
   "metadata": {
    "collapsed": true
   },
   "outputs": [],
   "source": []
  }
 ],
 "metadata": {
  "anaconda-cloud": {},
  "kernelspec": {
   "display_name": "Python [default]",
   "language": "python",
   "name": "python3"
  },
  "language_info": {
   "codemirror_mode": {
    "name": "ipython",
    "version": 3
   },
   "file_extension": ".py",
   "mimetype": "text/x-python",
   "name": "python",
   "nbconvert_exporter": "python",
   "pygments_lexer": "ipython3",
   "version": "3.5.2"
  }
 },
 "nbformat": 4,
 "nbformat_minor": 2
}
