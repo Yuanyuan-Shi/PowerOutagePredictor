{
 "cells": [
  {
   "cell_type": "markdown",
   "metadata": {},
   "source": [
    "### The following are steps in using this module\n",
    "First import the classifier and numpy."
   ]
  },
  {
   "cell_type": "code",
   "execution_count": 2,
   "metadata": {
    "collapsed": true
   },
   "outputs": [],
   "source": [
    "import SVMClassifier as SVMC\n",
    "import numpy as np"
   ]
  },
  {
   "cell_type": "markdown",
   "metadata": {},
   "source": [
    "Let's setup some data to feed into the SVM. A good day and an extremely bad day. The required features in order are: day length (hrs), average temperature (F), average humidity, max windspeed (mph), average windspeed (mph), max windgust (mph), precipitation (in). The first row is on a sunshine day, and the second row is a stormy day."
   ]
  },
  {
   "cell_type": "code",
   "execution_count": 8,
   "metadata": {
    "collapsed": false
   },
   "outputs": [
    {
     "data": {
      "text/plain": [
       "(2, 7)"
      ]
     },
     "execution_count": 8,
     "metadata": {},
     "output_type": "execute_result"
    }
   ],
   "source": [
    "days = np.array([[11, 80, 80, 7, 3, 10, 0.], [8, 30, 50, 50, 30, 50, 1.]])\n",
    "days.shape"
   ]
  },
  {
   "cell_type": "markdown",
   "metadata": {},
   "source": [
    "We see that days has the required shape to fit into SVMC. Great! Now to use it:"
   ]
  },
  {
   "cell_type": "code",
   "execution_count": 9,
   "metadata": {
    "collapsed": false
   },
   "outputs": [
    {
     "data": {
      "text/plain": [
       "array([ 0.,  2.])"
      ]
     },
     "execution_count": 9,
     "metadata": {},
     "output_type": "execute_result"
    }
   ],
   "source": [
    "SVMC.predictOutage(days)"
   ]
  },
  {
   "cell_type": "markdown",
   "metadata": {},
   "source": [
    "The classifier is telling us, for the sunny day, it's classifiying the day as 0, which is a case when there are only 0 - 2 outages. On the other hand, for the stormy day, it's classifying the day as 2, which is a case when there are 8 or more outages.\n",
    "\n",
    "We can also predict the probabilities of each classification using the predictOutageProba function:"
   ]
  },
  {
   "cell_type": "code",
   "execution_count": 10,
   "metadata": {
    "collapsed": false
   },
   "outputs": [
    {
     "data": {
      "text/plain": [
       "array([[ 0.96042868,  0.03666562,  0.0029057 ],\n",
       "       [ 0.11566639,  0.39344899,  0.49088462]])"
      ]
     },
     "execution_count": 10,
     "metadata": {},
     "output_type": "execute_result"
    }
   ],
   "source": [
    "SVMC.predictOutageProba(days)"
   ]
  },
  {
   "cell_type": "markdown",
   "metadata": {},
   "source": [
    "For the sunny day, there is a 96% chance that the day is of type 0, i.e. 0 - 2 outages.\n",
    "For the stormy day, there is a 49% chance that the day is of type 2, i.e. more than 8 outages.\n",
    "\n",
    "#### Caution:\n",
    "The predictOutage function does not use the probabilities of the predictOutageProba function to make it's decision. The predictOutageProba function uses a pairwise correlation algorithm. Therefore they are not guaranteed to be consistent with each other, i.e. classification with the highest probability by predictOutageProba may not be the classification chosen by predictOutage. For more information please go to https://www.csie.ntu.edu.tw/~cjlin/libsvm/"
   ]
  },
  {
   "cell_type": "code",
   "execution_count": null,
   "metadata": {
    "collapsed": true
   },
   "outputs": [],
   "source": []
  }
 ],
 "metadata": {
  "kernelspec": {
   "display_name": "Python [default]",
   "language": "python",
   "name": "python3"
  },
  "language_info": {
   "codemirror_mode": {
    "name": "ipython",
    "version": 3
   },
   "file_extension": ".py",
   "mimetype": "text/x-python",
   "name": "python",
   "nbconvert_exporter": "python",
   "pygments_lexer": "ipython3",
   "version": "3.5.2"
  }
 },
 "nbformat": 4,
 "nbformat_minor": 2
}
