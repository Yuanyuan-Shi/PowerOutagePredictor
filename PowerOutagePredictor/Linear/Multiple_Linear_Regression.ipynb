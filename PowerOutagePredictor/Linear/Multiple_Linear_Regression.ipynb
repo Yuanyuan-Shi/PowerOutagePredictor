{
 "cells": [
  {
   "cell_type": "code",
   "execution_count": 1,
   "metadata": {
    "collapsed": true
   },
   "outputs": [],
   "source": [
    "import pandas as pd\n",
    "from sklearn import linear_model\n",
    "from sklearn.metrics import mean_squared_error\n",
    "import matplotlib.pyplot as plt"
   ]
  },
  {
   "cell_type": "code",
   "execution_count": 2,
   "metadata": {
    "collapsed": false
   },
   "outputs": [],
   "source": [
    "data = pd.read_csv(\"../../Data/2014outagesJerry.csv\")"
   ]
  },
  {
   "cell_type": "code",
   "execution_count": 3,
   "metadata": {
    "collapsed": false
   },
   "outputs": [
    {
     "data": {
      "text/html": [
       "<div>\n",
       "<table border=\"1\" class=\"dataframe\">\n",
       "  <thead>\n",
       "    <tr style=\"text-align: right;\">\n",
       "      <th></th>\n",
       "      <th>Date</th>\n",
       "      <th>Total_outages</th>\n",
       "      <th>Equipment</th>\n",
       "      <th>Trees</th>\n",
       "      <th>Animals</th>\n",
       "      <th>Lightning</th>\n",
       "      <th>Others</th>\n",
       "      <th>Day_length_hr</th>\n",
       "      <th>Max_temp_F</th>\n",
       "      <th>Avg_Temp_F</th>\n",
       "      <th>...</th>\n",
       "      <th>Max_windspeed_mph</th>\n",
       "      <th>Avg_windspeed_mph</th>\n",
       "      <th>Max_windgust_mph</th>\n",
       "      <th>Precipitation_in</th>\n",
       "      <th>Events</th>\n",
       "      <th>Event_fog</th>\n",
       "      <th>Event_rain</th>\n",
       "      <th>Event_snow</th>\n",
       "      <th>Event_thunderstorm</th>\n",
       "      <th>Event_Hail</th>\n",
       "    </tr>\n",
       "  </thead>\n",
       "  <tbody>\n",
       "    <tr>\n",
       "      <th>0</th>\n",
       "      <td>1/1/14</td>\n",
       "      <td>0</td>\n",
       "      <td>0</td>\n",
       "      <td>0</td>\n",
       "      <td>0</td>\n",
       "      <td>0</td>\n",
       "      <td>0</td>\n",
       "      <td>8.529</td>\n",
       "      <td>45</td>\n",
       "      <td>42</td>\n",
       "      <td>...</td>\n",
       "      <td>8</td>\n",
       "      <td>3</td>\n",
       "      <td>9</td>\n",
       "      <td>0.01</td>\n",
       "      <td>Fog</td>\n",
       "      <td>1</td>\n",
       "      <td>0</td>\n",
       "      <td>0</td>\n",
       "      <td>0</td>\n",
       "      <td>0</td>\n",
       "    </tr>\n",
       "    <tr>\n",
       "      <th>1</th>\n",
       "      <td>1/2/14</td>\n",
       "      <td>0</td>\n",
       "      <td>0</td>\n",
       "      <td>0</td>\n",
       "      <td>0</td>\n",
       "      <td>0</td>\n",
       "      <td>0</td>\n",
       "      <td>8.547</td>\n",
       "      <td>51</td>\n",
       "      <td>47</td>\n",
       "      <td>...</td>\n",
       "      <td>21</td>\n",
       "      <td>7</td>\n",
       "      <td>26</td>\n",
       "      <td>0.00</td>\n",
       "      <td>NaN</td>\n",
       "      <td>0</td>\n",
       "      <td>0</td>\n",
       "      <td>0</td>\n",
       "      <td>0</td>\n",
       "      <td>0</td>\n",
       "    </tr>\n",
       "    <tr>\n",
       "      <th>2</th>\n",
       "      <td>1/3/14</td>\n",
       "      <td>1</td>\n",
       "      <td>1</td>\n",
       "      <td>0</td>\n",
       "      <td>0</td>\n",
       "      <td>0</td>\n",
       "      <td>0</td>\n",
       "      <td>8.566</td>\n",
       "      <td>48</td>\n",
       "      <td>43</td>\n",
       "      <td>...</td>\n",
       "      <td>14</td>\n",
       "      <td>6</td>\n",
       "      <td>16</td>\n",
       "      <td>0.00</td>\n",
       "      <td>Fog</td>\n",
       "      <td>1</td>\n",
       "      <td>0</td>\n",
       "      <td>0</td>\n",
       "      <td>0</td>\n",
       "      <td>0</td>\n",
       "    </tr>\n",
       "    <tr>\n",
       "      <th>3</th>\n",
       "      <td>1/4/14</td>\n",
       "      <td>0</td>\n",
       "      <td>0</td>\n",
       "      <td>0</td>\n",
       "      <td>0</td>\n",
       "      <td>0</td>\n",
       "      <td>0</td>\n",
       "      <td>8.586</td>\n",
       "      <td>46</td>\n",
       "      <td>40</td>\n",
       "      <td>...</td>\n",
       "      <td>10</td>\n",
       "      <td>6</td>\n",
       "      <td>13</td>\n",
       "      <td>0.00</td>\n",
       "      <td>NaN</td>\n",
       "      <td>0</td>\n",
       "      <td>0</td>\n",
       "      <td>0</td>\n",
       "      <td>0</td>\n",
       "      <td>0</td>\n",
       "    </tr>\n",
       "    <tr>\n",
       "      <th>4</th>\n",
       "      <td>1/5/14</td>\n",
       "      <td>4</td>\n",
       "      <td>4</td>\n",
       "      <td>0</td>\n",
       "      <td>0</td>\n",
       "      <td>0</td>\n",
       "      <td>0</td>\n",
       "      <td>8.608</td>\n",
       "      <td>47</td>\n",
       "      <td>39</td>\n",
       "      <td>...</td>\n",
       "      <td>15</td>\n",
       "      <td>8</td>\n",
       "      <td>17</td>\n",
       "      <td>0.00</td>\n",
       "      <td>NaN</td>\n",
       "      <td>0</td>\n",
       "      <td>0</td>\n",
       "      <td>0</td>\n",
       "      <td>0</td>\n",
       "      <td>0</td>\n",
       "    </tr>\n",
       "  </tbody>\n",
       "</table>\n",
       "<p>5 rows × 27 columns</p>\n",
       "</div>"
      ],
      "text/plain": [
       "     Date  Total_outages  Equipment  Trees  Animals  Lightning  Others  \\\n",
       "0  1/1/14              0          0      0        0          0       0   \n",
       "1  1/2/14              0          0      0        0          0       0   \n",
       "2  1/3/14              1          1      0        0          0       0   \n",
       "3  1/4/14              0          0      0        0          0       0   \n",
       "4  1/5/14              4          4      0        0          0       0   \n",
       "\n",
       "   Day_length_hr  Max_temp_F  Avg_Temp_F     ...      Max_windspeed_mph  \\\n",
       "0          8.529          45          42     ...                      8   \n",
       "1          8.547          51          47     ...                     21   \n",
       "2          8.566          48          43     ...                     14   \n",
       "3          8.586          46          40     ...                     10   \n",
       "4          8.608          47          39     ...                     15   \n",
       "\n",
       "   Avg_windspeed_mph  Max_windgust_mph  Precipitation_in  Events  Event_fog  \\\n",
       "0                  3                 9              0.01     Fog          1   \n",
       "1                  7                26              0.00     NaN          0   \n",
       "2                  6                16              0.00     Fog          1   \n",
       "3                  6                13              0.00     NaN          0   \n",
       "4                  8                17              0.00     NaN          0   \n",
       "\n",
       "   Event_rain  Event_snow  Event_thunderstorm  Event_Hail  \n",
       "0           0           0                   0           0  \n",
       "1           0           0                   0           0  \n",
       "2           0           0                   0           0  \n",
       "3           0           0                   0           0  \n",
       "4           0           0                   0           0  \n",
       "\n",
       "[5 rows x 27 columns]"
      ]
     },
     "execution_count": 3,
     "metadata": {},
     "output_type": "execute_result"
    }
   ],
   "source": [
    "data.head()"
   ]
  },
  {
   "cell_type": "markdown",
   "metadata": {},
   "source": [
    "## Total Outages"
   ]
  },
  {
   "cell_type": "code",
   "execution_count": 4,
   "metadata": {
    "collapsed": false
   },
   "outputs": [
    {
     "name": "stdout",
     "output_type": "stream",
     "text": [
      "intercept -4.90222684367\n",
      "coef [  7.31750993e-02   2.32410455e-01  -2.74525205e-01   5.91801705e-02\n",
      "   4.87905658e-01  -9.63162244e-01   5.07496145e-01  -1.66382841e-01\n",
      "   1.38200809e-01   4.23166208e-03   1.77306852e-01  -4.20551713e-02\n",
      "  -1.31479583e-02   9.74618090e-01  -7.28642679e-01  -2.12949697e-01\n",
      "  -7.01601750e-01  -8.69546408e-01   6.10563506e+00]\n"
     ]
    },
    {
     "data": {
      "image/png": "[encoded data removed]",
      "text/plain": [
       "<matplotlib.figure.Figure at 0x111758630>"
      ]
     },
     "metadata": {},
     "output_type": "display_data"
    },
    {
     "name": "stdout",
     "output_type": "stream",
     "text": [
      "Train error 5.83109694417\n",
      "R^2 0.166717198605\n"
     ]
    }
   ],
   "source": [
    "# Select input/output data\n",
    "Y_tot = data['Total_outages']\n",
    "X_tot = data[['Day_length_hr','Max_temp_F','Avg_Temp_F','Min_temp_F','Max_humidity_percent','Avg_humidity_percent','Min_humidity_percent','Max_visibility_mi','Avg_visibility_mi','Min_visibility_mi','Max_windspeed_mph','Avg_windspeed_mph','Max_windgust_mph','Precipitation_in','Event_fog','Event_rain','Event_snow','Event_thunderstorm','Event_Hail']]\n",
    "\n",
    "# sklearn - multiple linear regression\n",
    "regr_tot = linear_model.LinearRegression()\n",
    "regr_tot.fit(X_tot,Y_tot)\n",
    "print(\"intercept\",regr_tot.intercept_)\n",
    "print(\"coef\",regr_tot.coef_)\n",
    "\n",
    "# make predictions on test and train set \n",
    "Y_tot_predict = regr_tot.predict(X_tot)\n",
    "\n",
    "#make parity plot \n",
    "plt.figure(figsize=(4,4))\n",
    "plt.scatter(Y_tot,Y_tot_predict)\n",
    "plt.plot([0,10],[0,10],lw=4,color='black')\n",
    "plt.show()\n",
    "\n",
    "#calculate the test and train error\n",
    "print(\"Train error\",mean_squared_error(Y_tot,Y_tot_predict))\n",
    "\n",
    "# Returns the coefficient of determination R^2 of the prediction.\n",
    "print(\"R^2\",regr_tot.score(X_tot,Y_tot))"
   ]
  },
  {
   "cell_type": "markdown",
   "metadata": {},
   "source": [
    "## Equipment-caused Outages"
   ]
  },
  {
   "cell_type": "code",
   "execution_count": 5,
   "metadata": {
    "collapsed": false
   },
   "outputs": [
    {
     "name": "stdout",
     "output_type": "stream",
     "text": [
      "intercept 0.186374724772\n",
      "coef [ 0.02771353  0.10639157 -0.11308583 -0.00195787  0.01661352 -0.04071416\n",
      "  0.0312748  -0.06715066  0.0352344   0.00119391 -0.00138416  0.0199102\n",
      "  0.00306222 -0.33358387 -0.16353461 -0.12182097 -0.44947657  0.21498552\n",
      "  0.4241142 ]\n"
     ]
    },
    {
     "data": {
      "image/png": "[encoded data removed]",
      "text/plain": [
       "<matplotlib.figure.Figure at 0x1117581d0>"
      ]
     },
     "metadata": {},
     "output_type": "display_data"
    },
    {
     "name": "stdout",
     "output_type": "stream",
     "text": [
      "Train error 1.10517504858\n",
      "R^2 -1.54476839814\n"
     ]
    }
   ],
   "source": [
    "# Select input/output data\n",
    "Y_eqp = data['Equipment']\n",
    "X_eqp = data[['Day_length_hr','Max_temp_F','Avg_Temp_F','Min_temp_F','Max_humidity_percent','Avg_humidity_percent','Min_humidity_percent','Max_visibility_mi','Avg_visibility_mi','Min_visibility_mi','Max_windspeed_mph','Avg_windspeed_mph','Max_windgust_mph','Precipitation_in','Event_fog','Event_rain','Event_snow','Event_thunderstorm','Event_Hail']]\n",
    "\n",
    "# sklearn - multiple linear regression\n",
    "regr_eqp = linear_model.LinearRegression()\n",
    "regr_eqp.fit(X_eqp,Y_eqp)\n",
    "print(\"intercept\",regr_eqp.intercept_)\n",
    "print(\"coef\",regr_eqp.coef_)\n",
    "\n",
    "# make predictions on test and train set \n",
    "Y_eqp_predict = regr_eqp.predict(X_eqp)\n",
    "\n",
    "#make parity plot \n",
    "plt.figure(figsize=(4,4))\n",
    "plt.scatter(Y_eqp,Y_eqp_predict)\n",
    "plt.plot([0,10],[0,10],lw=4,color='black')\n",
    "plt.show()\n",
    "\n",
    "#calculate the test and train error\n",
    "print(\"Train error\",mean_squared_error(Y_eqp,Y_eqp_predict))\n",
    "\n",
    "# Returns the coefficient of determination R^2 of the prediction.\n",
    "print(\"R^2\",regr_tot.score(X_eqp,Y_eqp))"
   ]
  },
  {
   "cell_type": "markdown",
   "metadata": {},
   "source": [
    "## Trees-caused Outages"
   ]
  },
  {
   "cell_type": "code",
   "execution_count": 6,
   "metadata": {
    "collapsed": false
   },
   "outputs": [
    {
     "name": "stdout",
     "output_type": "stream",
     "text": [
      "intercept -3.65454336059\n",
      "coef [-0.11735785  0.07619715 -0.04150134 -0.0212088   0.41518646 -0.79801679\n",
      "  0.4141762  -0.1437065   0.14846766 -0.00600946  0.16222747 -0.04374467\n",
      " -0.01203819  1.44004922 -0.45499441 -0.09846131 -0.38505794 -0.90905525\n",
      "  0.78762983]\n"
     ]
    },
    {
     "data": {
      "image/png": "[encoded data removed]",
      "text/plain": [
       "<matplotlib.figure.Figure at 0x10d7c2518>"
      ]
     },
     "metadata": {},
     "output_type": "display_data"
    },
    {
     "name": "stdout",
     "output_type": "stream",
     "text": [
      "Train error 3.9053336501\n",
      "R^2 0.181864951106\n"
     ]
    }
   ],
   "source": [
    "# Select input/output data\n",
    "Y_tree = data['Trees']\n",
    "#X_tree = data[['Max_temp_F','Max_humidity_percent','Min_visibility_mi','Max_windspeed_mph','Precipitation_in','Event_Hail']]\n",
    "X_tree = data[['Day_length_hr','Max_temp_F','Avg_Temp_F','Min_temp_F','Max_humidity_percent','Avg_humidity_percent','Min_humidity_percent','Max_visibility_mi','Avg_visibility_mi','Min_visibility_mi','Max_windspeed_mph','Avg_windspeed_mph','Max_windgust_mph','Precipitation_in','Event_fog','Event_rain','Event_snow','Event_thunderstorm','Event_Hail']]\n",
    "\n",
    "# sklearn - multiple linear regression\n",
    "regr_tree = linear_model.LinearRegression()\n",
    "regr_tree.fit(X_tree,Y_tree)\n",
    "print(\"intercept\",regr_tree.intercept_)\n",
    "print(\"coef\",regr_tree.coef_)\n",
    "\n",
    "# make predictions on test and train set \n",
    "Y_tree_predict = regr_tree.predict(X_tree)\n",
    "\n",
    "#make parity plot \n",
    "plt.figure(figsize=(4,4))\n",
    "plt.scatter(Y_tree,Y_tree_predict)\n",
    "plt.plot([0,10],[0,10],lw=4,color='black')\n",
    "plt.show()\n",
    "\n",
    "#calculate the test and train error\n",
    "print(\"Train error\",mean_squared_error(Y_tree,Y_tree_predict))\n",
    "\n",
    "# Returns the coefficient of determination R^2 of the prediction.\n",
    "print(\"R^2\",regr_tree.score(X_tree,Y_tree))"
   ]
  },
  {
   "cell_type": "code",
   "execution_count": null,
   "metadata": {
    "collapsed": true
   },
   "outputs": [],
   "source": [
    ""
   ]
  },
  {
   "cell_type": "code",
   "execution_count": null,
   "metadata": {
    "collapsed": true
   },
   "outputs": [],
   "source": [
    ""
   ]
  },
  {
   "cell_type": "code",
   "execution_count": null,
   "metadata": {
    "collapsed": true
   },
   "outputs": [],
   "source": [
    ""
   ]
  },
  {
   "cell_type": "code",
   "execution_count": null,
   "metadata": {
    "collapsed": true
   },
   "outputs": [],
   "source": [
    ""
   ]
  },
  {
   "cell_type": "code",
   "execution_count": null,
   "metadata": {
    "collapsed": true
   },
   "outputs": [],
   "source": [
    ""
   ]
  },
  {
   "cell_type": "markdown",
   "metadata": {},
   "source": [
    "## Animals-caused Outages"
   ]
  },
  {
   "cell_type": "code",
   "execution_count": 7,
   "metadata": {
    "collapsed": false
   },
   "outputs": [
    {
     "name": "stdout",
     "output_type": "stream",
     "text": [
      "intercept -1.27127793706\n",
      "coef [ 0.17247108  0.08305196 -0.18345399  0.10724284  0.05723048 -0.12935971\n",
      "  0.06584591  0.03530493 -0.04488763  0.01119304  0.01188247 -0.02359757\n",
      "  0.00313773  0.02383734 -0.157204   -0.07663572  0.19637359 -0.10341631\n",
      "  2.94726225]\n"
     ]
    },
    {
     "data": {
      "image/png": "[encoded data removed]",
      "text/plain": [
       "<matplotlib.figure.Figure at 0x115ca42b0>"
      ]
     },
     "metadata": {},
     "output_type": "display_data"
    },
    {
     "name": "stdout",
     "output_type": "stream",
     "text": [
      "Train error 0.691200762891\n",
      "R^2 0.253282341582\n"
     ]
    }
   ],
   "source": [
    "# Select input/output data\n",
    "Y_ani = data['Animals']\n",
    "X_ani = data[['Day_length_hr','Max_temp_F','Avg_Temp_F','Min_temp_F','Max_humidity_percent','Avg_humidity_percent','Min_humidity_percent','Max_visibility_mi','Avg_visibility_mi','Min_visibility_mi','Max_windspeed_mph','Avg_windspeed_mph','Max_windgust_mph','Precipitation_in','Event_fog','Event_rain','Event_snow','Event_thunderstorm','Event_Hail']]\n",
    "\n",
    "# sklearn - multiple linear regression\n",
    "regr_ani = linear_model.LinearRegression()\n",
    "regr_ani.fit(X_ani,Y_ani)\n",
    "print(\"intercept\",regr_ani.intercept_)\n",
    "print(\"coef\",regr_ani.coef_)\n",
    "\n",
    "# make predictions on test and train set \n",
    "Y_ani_predict = regr_ani.predict(X_ani)\n",
    "\n",
    "#make parity plot \n",
    "plt.figure(figsize=(4,4))\n",
    "plt.scatter(Y_ani,Y_ani_predict)\n",
    "plt.plot([0,10],[0,10],lw=4,color='black')\n",
    "plt.show()\n",
    "\n",
    "#calculate the test and train error\n",
    "print(\"Train error\",mean_squared_error(Y_ani,Y_ani_predict))\n",
    "\n",
    "# Returns the coefficient of determination R^2 of the prediction.\n",
    "print(\"R^2\",regr_ani.score(X_ani,Y_ani))"
   ]
  },
  {
   "cell_type": "code",
   "execution_count": null,
   "metadata": {
    "collapsed": true
   },
   "outputs": [],
   "source": [
    ""
   ]
  },
  {
   "cell_type": "code",
   "execution_count": null,
   "metadata": {
    "collapsed": true
   },
   "outputs": [],
   "source": [
    ""
   ]
  },
  {
   "cell_type": "code",
   "execution_count": null,
   "metadata": {
    "collapsed": true
   },
   "outputs": [],
   "source": [
    ""
   ]
  },
  {
   "cell_type": "code",
   "execution_count": null,
   "metadata": {
    "collapsed": true
   },
   "outputs": [],
   "source": [
    ""
   ]
  },
  {
   "cell_type": "markdown",
   "metadata": {},
   "source": [
    "## Lightning-caused Outages"
   ]
  },
  {
   "cell_type": "code",
   "execution_count": 8,
   "metadata": {
    "collapsed": false
   },
   "outputs": [
    {
     "name": "stdout",
     "output_type": "stream",
     "text": [
      "intercept -0.0561307181041\n",
      "coef [-0.00188177 -0.0216172   0.04733827 -0.02261475 -0.01354007  0.02554474\n",
      " -0.0124728  -0.00772161  0.0097748  -0.00492468  0.00661001  0.00239096\n",
      " -0.00743383 -0.08087552  0.07790722  0.0432962  -0.04134993 -0.01591756\n",
      "  0.01440534]\n"
     ]
    },
    {
     "data": {
      "image/png": "[encoded data removed]",
      "text/plain": [
       "<matplotlib.figure.Figure at 0x1153c0ef0>"
      ]
     },
     "metadata": {},
     "output_type": "display_data"
    },
    {
     "name": "stdout",
     "output_type": "stream",
     "text": [
      "Train error 0.154241373863\n",
      "R^2 0.0247362585258\n"
     ]
    }
   ],
   "source": [
    "# Select input/output data\n",
    "Y_lightening = data['Lightning']\n",
    "X_lightening = data[['Day_length_hr','Max_temp_F','Avg_Temp_F','Min_temp_F','Max_humidity_percent','Avg_humidity_percent','Min_humidity_percent','Max_visibility_mi','Avg_visibility_mi','Min_visibility_mi','Max_windspeed_mph','Avg_windspeed_mph','Max_windgust_mph','Precipitation_in','Event_fog','Event_rain','Event_snow','Event_thunderstorm','Event_Hail']]\n",
    "\n",
    "# sklearn - multiple linear regression\n",
    "regr_lightening = linear_model.LinearRegression()\n",
    "regr_lightening.fit(X_lightening,Y_lightening)\n",
    "print(\"intercept\",regr_lightening.intercept_)\n",
    "print(\"coef\",regr_lightening.coef_)\n",
    "\n",
    "# make predictions on test and train set \n",
    "Y_lightening_predict = regr_lightening.predict(X_lightening)\n",
    "\n",
    "#make parity plot \n",
    "plt.figure(figsize=(4,4))\n",
    "plt.scatter(Y_lightening,Y_lightening_predict)\n",
    "plt.plot([0,10],[0,10],lw=4,color='black')\n",
    "plt.show()\n",
    "\n",
    "#calculate the test and train error\n",
    "print(\"Train error\",mean_squared_error(Y_lightening,Y_lightening_predict))\n",
    "\n",
    "# Returns the coefficient of determination R^2 of the prediction.\n",
    "print(\"R^2\",regr_lightening.score(X_lightening,Y_lightening))"
   ]
  },
  {
   "cell_type": "code",
   "execution_count": null,
   "metadata": {
    "collapsed": true
   },
   "outputs": [],
   "source": [
    ""
   ]
  }
 ],
 "metadata": {
  "kernelspec": {
   "display_name": "Python [default]",
   "language": "python",
   "name": "python3"
  },
  "language_info": {
   "codemirror_mode": {
    "name": "ipython",
    "version": 3.0
   },
   "file_extension": ".py",
   "mimetype": "text/x-python",
   "name": "python",
   "nbconvert_exporter": "python",
   "pygments_lexer": "ipython3",
   "version": "3.5.2"
  }
 },
 "nbformat": 4,
 "nbformat_minor": 0
}