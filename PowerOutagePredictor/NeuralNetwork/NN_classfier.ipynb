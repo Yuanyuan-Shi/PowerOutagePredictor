{
 "cells": [
  {
   "cell_type": "code",
   "execution_count": 12,
   "metadata": {
    "collapsed": false
   },
   "outputs": [],
   "source": [
    "import pandas as pd\n",
    "import numpy as np\n",
    "import matplotlib.pyplot as plt\n",
    "%matplotlib inline\n",
    "\n",
    "from sklearn import preprocessing\n",
    "from sklearn.model_selection import train_test_split\n",
    "from sklearn.metrics import mean_squared_error\n",
    "import pandas as pd\n",
    "from pandas.tools.plotting import autocorrelation_plot"
   ]
  },
  {
   "cell_type": "code",
   "execution_count": 13,
   "metadata": {
    "collapsed": false
   },
   "outputs": [],
   "source": [
    "data = pd.read_csv('../../Data/WeatherOutagesAllJerry.csv')\n",
    "data = data.dropna(how = 'all')"
   ]
  },
  {
   "cell_type": "code",
   "execution_count": 14,
   "metadata": {
    "collapsed": false
   },
   "outputs": [
    {
     "data": {
      "text/plain": [
       "<matplotlib.axes._subplots.AxesSubplot at 0x10d574ef0>"
      ]
     },
     "execution_count": 14,
     "metadata": {},
     "output_type": "execute_result"
    },
    {
     "data": {
      "image/png": "[encoded data removed]",
      "text/plain": [
       "<matplotlib.figure.Figure at 0x113a14470>"
      ]
     },
     "metadata": {},
     "output_type": "display_data"
    }
   ],
   "source": [
    "# convert to classification problem\n",
    "def f(row):\n",
    "    \"\"\"function that categories days with more than 8 outages as extreme, \n",
    "                                3-8 outages as bad, and 0-2 as normal\"\"\"\n",
    "    if row['Total_outages'] > 8:\n",
    "        val = 2\n",
    "    elif row['Total_outages'] > 2:\n",
    "        val = 1\n",
    "    else:\n",
    "        val = 0\n",
    "    return val\n",
    "\n",
    "data['category'] = data.apply(f, axis=1)\n",
    "data.category.value_counts().plot(kind='bar')"
   ]
  },
  {
   "cell_type": "code",
   "execution_count": 15,
   "metadata": {
    "collapsed": false
   },
   "outputs": [],
   "source": [
    "train,test=train_test_split(data,test_size=0.1,random_state=567)"
   ]
  },
  {
   "cell_type": "code",
   "execution_count": 16,
   "metadata": {
    "collapsed": false
   },
   "outputs": [],
   "source": [
    "x_train = train[['Day_length_hr','Avg_Temp_F','Avg_humidity_percent','Avg_windspeed_mph','Max_windspeed_mph',\n",
    "                 'Precipitation_in','Event_thunderstorm']]\n",
    "y_train = train['category']\n",
    "\n",
    "x_test = test[['Day_length_hr','Avg_Temp_F','Avg_humidity_percent','Avg_windspeed_mph','Max_windspeed_mph',\n",
    "                 'Precipitation_in','Event_thunderstorm']]\n",
    "y_test = test['category']"
   ]
  },
  {
   "cell_type": "code",
   "execution_count": 17,
   "metadata": {
    "collapsed": false
   },
   "outputs": [],
   "source": [
    "# data normalization\n",
    "x_train = preprocessing.normalize(x_train)\n",
    "#y_train = preprocessing.normalize(y_train)\n",
    "x_test = preprocessing.normalize(x_test)\n",
    "#y_test = preprocessing.normalize(y_test)"
   ]
  },
  {
   "cell_type": "code",
   "execution_count": 18,
   "metadata": {
    "collapsed": false
   },
   "outputs": [
    {
     "data": {
      "text/plain": [
       "49"
      ]
     },
     "execution_count": 18,
     "metadata": {},
     "output_type": "execute_result"
    }
   ],
   "source": [
    "len(y_train[y_train==2])"
   ]
  },
  {
   "cell_type": "code",
   "execution_count": 19,
   "metadata": {
    "collapsed": false
   },
   "outputs": [],
   "source": [
    "from imblearn.datasets import make_imbalance\n",
    "from imblearn.over_sampling import RandomOverSampler \n",
    "# Apply the random over-sampling\n",
    "ros = RandomOverSampler(ratio=0.3,random_state=6)\n",
    "x_res, y_res = ros.fit_sample(x_train[y_train!=2], y_train[y_train!=2])\n",
    "ros2 = RandomOverSampler(ratio=0.3,random_state=6)\n",
    "x_res2, y_res2 = ros2.fit_sample(x_train[y_train!=1], y_train[y_train!=1])\n",
    "\n",
    "x1 = np.concatenate((x_res,x_res2[y_res2==2]), axis=0)\n",
    "y1 = np.concatenate((y_res, y_res2[y_res2==2]),axis=0)"
   ]
  },
  {
   "cell_type": "code",
   "execution_count": 20,
   "metadata": {
    "collapsed": false
   },
   "outputs": [],
   "source": [
    "x_train = x1\n",
    "y_train = y1"
   ]
  },
  {
   "cell_type": "code",
   "execution_count": 21,
   "metadata": {
    "collapsed": false
   },
   "outputs": [
    {
     "data": {
      "text/plain": [
       "MLPClassifier(activation='identity', alpha=1e-05, batch_size='auto',\n",
       "       beta_1=0.9, beta_2=0.999, early_stopping=False, epsilon=1e-08,\n",
       "       hidden_layer_sizes=(5, 3), learning_rate='constant',\n",
       "       learning_rate_init=0.001, max_iter=1000, momentum=0.9,\n",
       "       nesterovs_momentum=True, power_t=0.5, random_state=1, shuffle=True,\n",
       "       solver='lbfgs', tol=0.0001, validation_fraction=0.1, verbose=False,\n",
       "       warm_start=False)"
      ]
     },
     "execution_count": 21,
     "metadata": {},
     "output_type": "execute_result"
    }
   ],
   "source": [
    "N_train = x_train.shape[0]\n",
    "N_test = x_test.shape[0]\n",
    "from sklearn.neural_network import MLPClassifier\n",
    "clf = MLPClassifier(max_iter=1000,activation='identity', solver='lbfgs', alpha=1e-5,hidden_layer_sizes=(5, 3), random_state=1)\n",
    "clf.fit(x_train, y_train)              "
   ]
  },
  {
   "cell_type": "code",
   "execution_count": 22,
   "metadata": {
    "collapsed": false
   },
   "outputs": [
    {
     "name": "stdout",
     "output_type": "stream",
     "text": [
      "Train error for normalized data 0.500415973378\n",
      "Test error for normalized data 0.278659611993\n"
     ]
    }
   ],
   "source": [
    "y_train_pred = clf.predict(x_train)\n",
    "y_test_pred = clf.predict(x_test)\n",
    "\n",
    "print(\"Train error for normalized data\",mean_squared_error(y_train,y_train_pred))\n",
    "print(\"Test error for normalized data\",mean_squared_error(y_test,y_test_pred))"
   ]
  },
  {
   "cell_type": "code",
   "execution_count": 23,
   "metadata": {
    "collapsed": false
   },
   "outputs": [
    {
     "data": {
      "text/html": [
       "<div>\n",
       "<table border=\"1\" class=\"dataframe\">\n",
       "  <thead>\n",
       "    <tr style=\"text-align: right;\">\n",
       "      <th></th>\n",
       "      <th>Method</th>\n",
       "      <th>Overall_Correctness</th>\n",
       "      <th>right_predict_normal</th>\n",
       "      <th>right_predict_bad</th>\n",
       "      <th>right_predict_extreme</th>\n",
       "      <th>under_predict_bad</th>\n",
       "      <th>under_predict_extreme</th>\n",
       "      <th>over_predict_normal</th>\n",
       "      <th>over_predict_bad</th>\n",
       "    </tr>\n",
       "  </thead>\n",
       "  <tbody>\n",
       "    <tr>\n",
       "      <th>0</th>\n",
       "      <td>NN</td>\n",
       "      <td>0.731383</td>\n",
       "      <td>0.935226</td>\n",
       "      <td>0.130178</td>\n",
       "      <td>0.652367</td>\n",
       "      <td>0.723373</td>\n",
       "      <td>0.347633</td>\n",
       "      <td>0.064774</td>\n",
       "      <td>0.14645</td>\n",
       "    </tr>\n",
       "  </tbody>\n",
       "</table>\n",
       "</div>"
      ],
      "text/plain": [
       "  Method  Overall_Correctness  right_predict_normal  right_predict_bad  \\\n",
       "0     NN             0.731383              0.935226           0.130178   \n",
       "\n",
       "   right_predict_extreme  under_predict_bad  under_predict_extreme  \\\n",
       "0               0.652367           0.723373               0.347633   \n",
       "\n",
       "   over_predict_normal  over_predict_bad  \n",
       "0             0.064774           0.14645  "
      ]
     },
     "execution_count": 23,
     "metadata": {},
     "output_type": "execute_result"
    }
   ],
   "source": [
    "df = pd.DataFrame()\n",
    "#initialize counters \n",
    "overall_correctness = 0\n",
    "under_predict_normal = 0\n",
    "right_predict_normal = 0\n",
    "over_predict_normal = 0\n",
    "under_predict_bad = 0\n",
    "right_predict_bad = 0\n",
    "over_predict_bad = 0\n",
    "under_predict_extreme = 0\n",
    "right_predict_extreme = 0\n",
    "over_predict_extreme = 0\n",
    "    \n",
    "for index in range(0, N_train):\n",
    "    if y_train_pred[index] == y_train[index]: # predict correctly\n",
    "        overall_correctness += 1\n",
    "        if y_train[index] == 0:\n",
    "            right_predict_normal += 1\n",
    "        elif y_train[index] == 1:\n",
    "            right_predict_bad += 1\n",
    "        else:\n",
    "            right_predict_extreme += 1\n",
    "    elif y_train[index] == 0:\n",
    "        over_predict_normal += 1\n",
    "    elif y_train[index] == 1:\n",
    "        if y_train_pred[index] == 0:\n",
    "            under_predict_bad += 1\n",
    "        else:\n",
    "            over_predict_bad += 1\n",
    "    else:\n",
    "        under_predict_extreme += 1\n",
    "    \n",
    "df = df.append({\"Method\": 'NN', \"Overall_Correctness\": overall_correctness/index,\n",
    "                    \"right_predict_normal\": right_predict_normal/(right_predict_normal\n",
    "                                            + under_predict_normal + over_predict_normal),\n",
    "                    \"right_predict_bad\": right_predict_bad/(right_predict_bad\n",
    "                                            + under_predict_bad + over_predict_bad),\n",
    "                    \"right_predict_extreme\": right_predict_extreme/(right_predict_extreme\n",
    "                                            + under_predict_extreme + over_predict_extreme),\n",
    "                    \"under_predict_normal\": under_predict_normal/(right_predict_normal\n",
    "                                            + under_predict_normal + over_predict_normal),\n",
    "                    \"under_predict_bad\": under_predict_bad/(right_predict_bad\n",
    "                                            + under_predict_bad + over_predict_bad),\n",
    "                    \"under_predict_extreme\": under_predict_extreme/(right_predict_extreme\n",
    "                                            + under_predict_extreme + over_predict_extreme),\n",
    "                    \"over_predict_normal\": over_predict_normal/(right_predict_normal\n",
    "                                            + under_predict_normal + over_predict_normal),\n",
    "                    \"over_predict_bad\": over_predict_bad/(right_predict_bad\n",
    "                                            + under_predict_bad + over_predict_bad),\n",
    "                    \"over_predict_extreme\": over_predict_extreme/(right_predict_extreme\n",
    "                                            + under_predict_extreme + over_predict_extreme)},\n",
    "                  ignore_index=True)\n",
    "df = df[['Method', 'Overall_Correctness', 'right_predict_normal', 'right_predict_bad','right_predict_extreme',\n",
    "                              'under_predict_bad','under_predict_extreme',\n",
    "                              'over_predict_normal','over_predict_bad']]\n",
    "df      "
   ]
  },
  {
   "cell_type": "code",
   "execution_count": 25,
   "metadata": {
    "collapsed": false
   },
   "outputs": [
    {
     "data": {
      "text/html": [
       "<div>\n",
       "<table border=\"1\" class=\"dataframe\">\n",
       "  <thead>\n",
       "    <tr style=\"text-align: right;\">\n",
       "      <th></th>\n",
       "      <th>Method</th>\n",
       "      <th>Overall_Correctness</th>\n",
       "      <th>right_predict_normal</th>\n",
       "      <th>right_predict_bad</th>\n",
       "      <th>right_predict_extreme</th>\n",
       "      <th>under_predict_bad</th>\n",
       "      <th>under_predict_extreme</th>\n",
       "      <th>over_predict_normal</th>\n",
       "      <th>over_predict_bad</th>\n",
       "    </tr>\n",
       "  </thead>\n",
       "  <tbody>\n",
       "    <tr>\n",
       "      <th>0</th>\n",
       "      <td>Oversampling NN</td>\n",
       "      <td>0.844523</td>\n",
       "      <td>0.920477</td>\n",
       "      <td>0.20339</td>\n",
       "      <td>0.6</td>\n",
       "      <td>0.576271</td>\n",
       "      <td>0.4</td>\n",
       "      <td>0.079523</td>\n",
       "      <td>0.220339</td>\n",
       "    </tr>\n",
       "  </tbody>\n",
       "</table>\n",
       "</div>"
      ],
      "text/plain": [
       "            Method  Overall_Correctness  right_predict_normal  \\\n",
       "0  Oversampling NN             0.844523              0.920477   \n",
       "\n",
       "   right_predict_bad  right_predict_extreme  under_predict_bad  \\\n",
       "0            0.20339                    0.6           0.576271   \n",
       "\n",
       "   under_predict_extreme  over_predict_normal  over_predict_bad  \n",
       "0                    0.4             0.079523          0.220339  "
      ]
     },
     "execution_count": 25,
     "metadata": {},
     "output_type": "execute_result"
    }
   ],
   "source": [
    "df = pd.DataFrame()\n",
    "#initialize counters \n",
    "overall_correctness = 0\n",
    "under_predict_normal = 0\n",
    "right_predict_normal = 0\n",
    "over_predict_normal = 0\n",
    "under_predict_bad = 0\n",
    "right_predict_bad = 0\n",
    "over_predict_bad = 0\n",
    "under_predict_extreme = 0\n",
    "right_predict_extreme = 0\n",
    "over_predict_extreme = 0\n",
    "    \n",
    "for index in range(0, N_test):\n",
    "    if y_test_pred[index] == y_test.iloc[index]: # predict correctly\n",
    "        overall_correctness += 1\n",
    "        if y_test.iloc[index] == 0:\n",
    "            right_predict_normal += 1\n",
    "        elif y_test.iloc[index] == 1:\n",
    "            right_predict_bad += 1\n",
    "        else:\n",
    "            right_predict_extreme += 1\n",
    "    elif y_test.iloc[index] == 0:\n",
    "        over_predict_normal += 1\n",
    "    elif y_test.iloc[index] == 1:\n",
    "        if y_test_pred[index] == 0:\n",
    "            under_predict_bad += 1\n",
    "        else:\n",
    "            over_predict_bad += 1\n",
    "    else:\n",
    "        under_predict_extreme += 1\n",
    "    \n",
    "df = df.append({\"Method\": 'Oversampling NN', \"Overall_Correctness\": overall_correctness/index,\n",
    "                    \"right_predict_normal\": right_predict_normal/(right_predict_normal\n",
    "                                            + under_predict_normal + over_predict_normal),\n",
    "                    \"right_predict_bad\": right_predict_bad/(right_predict_bad\n",
    "                                            + under_predict_bad + over_predict_bad),\n",
    "                    \"right_predict_extreme\": right_predict_extreme/(right_predict_extreme\n",
    "                                            + under_predict_extreme + over_predict_extreme),\n",
    "                    \"under_predict_normal\": under_predict_normal/(right_predict_normal\n",
    "                                            + under_predict_normal + over_predict_normal),\n",
    "                    \"under_predict_bad\": under_predict_bad/(right_predict_bad\n",
    "                                            + under_predict_bad + over_predict_bad),\n",
    "                    \"under_predict_extreme\": under_predict_extreme/(right_predict_extreme\n",
    "                                            + under_predict_extreme + over_predict_extreme),\n",
    "                    \"over_predict_normal\": over_predict_normal/(right_predict_normal\n",
    "                                            + under_predict_normal + over_predict_normal),\n",
    "                    \"over_predict_bad\": over_predict_bad/(right_predict_bad\n",
    "                                            + under_predict_bad + over_predict_bad),\n",
    "                    \"over_predict_extreme\": over_predict_extreme/(right_predict_extreme\n",
    "                                            + under_predict_extreme + over_predict_extreme)},\n",
    "                  ignore_index=True)\n",
    "df = df[['Method','Overall_Correctness', 'right_predict_normal', 'right_predict_bad','right_predict_extreme',\n",
    "                              'under_predict_bad','under_predict_extreme',\n",
    "                              'over_predict_normal','over_predict_bad']]\n",
    "df      "
   ]
  },
  {
   "cell_type": "code",
   "execution_count": null,
   "metadata": {
    "collapsed": true
   },
   "outputs": [],
   "source": []
  }
 ],
 "metadata": {
  "anaconda-cloud": {},
  "kernelspec": {
   "display_name": "Python [conda root]",
   "language": "python",
   "name": "conda-root-py"
  },
  "language_info": {
   "codemirror_mode": {
    "name": "ipython",
    "version": 3
   },
   "file_extension": ".py",
   "mimetype": "text/x-python",
   "name": "python",
   "nbconvert_exporter": "python",
   "pygments_lexer": "ipython3",
   "version": "3.5.2"
  }
 },
 "nbformat": 4,
 "nbformat_minor": 1
}
