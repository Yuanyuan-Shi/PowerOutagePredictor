{
 "cells": [
  {
   "cell_type": "code",
   "execution_count": 18,
   "metadata": {
    "collapsed": false
   },
   "outputs": [],
   "source": [
    "import pandas as pd\n",
    "import numpy as np\n",
    "import numpy.linalg as LA\n",
    "import matplotlib.pyplot as plt\n",
    "import sklearn "
   ]
  },
  {
   "cell_type": "code",
   "execution_count": 51,
   "metadata": {
    "collapsed": false
   },
   "outputs": [],
   "source": [
    "data = pd.read_csv('http://localhost:8890/tree/Data/2014outagesJerry.csv')"
   ]
  },
  {
   "cell_type": "code",
   "execution_count": 52,
   "metadata": {
    "collapsed": false
   },
   "outputs": [
    {
     "data": {
      "text/html": [
       "<div>\n",
       "<table border=\"1\" class=\"dataframe\">\n",
       "  <thead>\n",
       "    <tr style=\"text-align: right;\">\n",
       "      <th></th>\n",
       "      <th>Date</th>\n",
       "      <th>Total_outages</th>\n",
       "      <th>Equipment</th>\n",
       "      <th>Trees</th>\n",
       "      <th>Animals</th>\n",
       "      <th>Lightning</th>\n",
       "      <th>Others</th>\n",
       "      <th>Day_length_hr</th>\n",
       "      <th>Max_temp_F</th>\n",
       "      <th>Avg_Temp_F</th>\n",
       "      <th>...</th>\n",
       "      <th>Max_windspeed_mph</th>\n",
       "      <th>Avg_windspeed_mph</th>\n",
       "      <th>Max_windgust_mph</th>\n",
       "      <th>Precipitation_in</th>\n",
       "      <th>Events</th>\n",
       "      <th>Event_fog</th>\n",
       "      <th>Event_rain</th>\n",
       "      <th>Event_snow</th>\n",
       "      <th>Event_thunderstorm</th>\n",
       "      <th>Event_Hail</th>\n",
       "    </tr>\n",
       "  </thead>\n",
       "  <tbody>\n",
       "    <tr>\n",
       "      <th>0</th>\n",
       "      <td>1/1/14</td>\n",
       "      <td>0</td>\n",
       "      <td>0</td>\n",
       "      <td>0</td>\n",
       "      <td>0</td>\n",
       "      <td>0</td>\n",
       "      <td>0</td>\n",
       "      <td>8.529</td>\n",
       "      <td>45</td>\n",
       "      <td>42</td>\n",
       "      <td>...</td>\n",
       "      <td>8</td>\n",
       "      <td>3</td>\n",
       "      <td>9</td>\n",
       "      <td>0.01</td>\n",
       "      <td>Fog</td>\n",
       "      <td>1</td>\n",
       "      <td>0</td>\n",
       "      <td>0</td>\n",
       "      <td>0</td>\n",
       "      <td>0</td>\n",
       "    </tr>\n",
       "    <tr>\n",
       "      <th>1</th>\n",
       "      <td>1/2/14</td>\n",
       "      <td>0</td>\n",
       "      <td>0</td>\n",
       "      <td>0</td>\n",
       "      <td>0</td>\n",
       "      <td>0</td>\n",
       "      <td>0</td>\n",
       "      <td>8.547</td>\n",
       "      <td>51</td>\n",
       "      <td>47</td>\n",
       "      <td>...</td>\n",
       "      <td>21</td>\n",
       "      <td>7</td>\n",
       "      <td>26</td>\n",
       "      <td>0.00</td>\n",
       "      <td>NaN</td>\n",
       "      <td>0</td>\n",
       "      <td>0</td>\n",
       "      <td>0</td>\n",
       "      <td>0</td>\n",
       "      <td>0</td>\n",
       "    </tr>\n",
       "    <tr>\n",
       "      <th>2</th>\n",
       "      <td>1/3/14</td>\n",
       "      <td>1</td>\n",
       "      <td>1</td>\n",
       "      <td>0</td>\n",
       "      <td>0</td>\n",
       "      <td>0</td>\n",
       "      <td>0</td>\n",
       "      <td>8.566</td>\n",
       "      <td>48</td>\n",
       "      <td>43</td>\n",
       "      <td>...</td>\n",
       "      <td>14</td>\n",
       "      <td>6</td>\n",
       "      <td>16</td>\n",
       "      <td>0.00</td>\n",
       "      <td>Fog</td>\n",
       "      <td>1</td>\n",
       "      <td>0</td>\n",
       "      <td>0</td>\n",
       "      <td>0</td>\n",
       "      <td>0</td>\n",
       "    </tr>\n",
       "    <tr>\n",
       "      <th>3</th>\n",
       "      <td>1/4/14</td>\n",
       "      <td>0</td>\n",
       "      <td>0</td>\n",
       "      <td>0</td>\n",
       "      <td>0</td>\n",
       "      <td>0</td>\n",
       "      <td>0</td>\n",
       "      <td>8.586</td>\n",
       "      <td>46</td>\n",
       "      <td>40</td>\n",
       "      <td>...</td>\n",
       "      <td>10</td>\n",
       "      <td>6</td>\n",
       "      <td>13</td>\n",
       "      <td>0.00</td>\n",
       "      <td>NaN</td>\n",
       "      <td>0</td>\n",
       "      <td>0</td>\n",
       "      <td>0</td>\n",
       "      <td>0</td>\n",
       "      <td>0</td>\n",
       "    </tr>\n",
       "    <tr>\n",
       "      <th>4</th>\n",
       "      <td>1/5/14</td>\n",
       "      <td>4</td>\n",
       "      <td>4</td>\n",
       "      <td>0</td>\n",
       "      <td>0</td>\n",
       "      <td>0</td>\n",
       "      <td>0</td>\n",
       "      <td>8.608</td>\n",
       "      <td>47</td>\n",
       "      <td>39</td>\n",
       "      <td>...</td>\n",
       "      <td>15</td>\n",
       "      <td>8</td>\n",
       "      <td>17</td>\n",
       "      <td>0.00</td>\n",
       "      <td>NaN</td>\n",
       "      <td>0</td>\n",
       "      <td>0</td>\n",
       "      <td>0</td>\n",
       "      <td>0</td>\n",
       "      <td>0</td>\n",
       "    </tr>\n",
       "  </tbody>\n",
       "</table>\n",
       "<p>5 rows × 27 columns</p>\n",
       "</div>"
      ],
      "text/plain": [
       "     Date  Total_outages  Equipment  Trees  Animals  Lightning  Others  \\\n",
       "0  1/1/14              0          0      0        0          0       0   \n",
       "1  1/2/14              0          0      0        0          0       0   \n",
       "2  1/3/14              1          1      0        0          0       0   \n",
       "3  1/4/14              0          0      0        0          0       0   \n",
       "4  1/5/14              4          4      0        0          0       0   \n",
       "\n",
       "   Day_length_hr  Max_temp_F  Avg_Temp_F     ...      Max_windspeed_mph  \\\n",
       "0          8.529          45          42     ...                      8   \n",
       "1          8.547          51          47     ...                     21   \n",
       "2          8.566          48          43     ...                     14   \n",
       "3          8.586          46          40     ...                     10   \n",
       "4          8.608          47          39     ...                     15   \n",
       "\n",
       "   Avg_windspeed_mph  Max_windgust_mph  Precipitation_in  Events  Event_fog  \\\n",
       "0                  3                 9              0.01     Fog          1   \n",
       "1                  7                26              0.00     NaN          0   \n",
       "2                  6                16              0.00     Fog          1   \n",
       "3                  6                13              0.00     NaN          0   \n",
       "4                  8                17              0.00     NaN          0   \n",
       "\n",
       "   Event_rain  Event_snow  Event_thunderstorm  Event_Hail  \n",
       "0           0           0                   0           0  \n",
       "1           0           0                   0           0  \n",
       "2           0           0                   0           0  \n",
       "3           0           0                   0           0  \n",
       "4           0           0                   0           0  \n",
       "\n",
       "[5 rows x 27 columns]"
      ]
     },
     "execution_count": 52,
     "metadata": {},
     "output_type": "execute_result"
    }
   ],
   "source": [
    "data.head()"
   ]
  },
  {
   "cell_type": "code",
   "execution_count": 74,
   "metadata": {
    "collapsed": false
   },
   "outputs": [],
   "source": [
    "Y = data['Total_outages']\n",
    "#Y1 = data['Equipment']\n",
    "Y_train = np.array(Y)-np.array(Y1)\n",
    "X = data[['Day_length_hr','Avg_Temp_F','Avg_humidity_percent','Avg_windspeed_mph','Max_windgust_mph',\n",
    "         'Precipitation_in','Event_rain','Event_snow','Event_thunderstorm','Event_Hail']]\n",
    "#X = data[['Day_length_hr','Max_temp_F','Avg_Temp_F','Min_temp_F','Max_humidity_percent','Avg_humidity_percent',\n",
    "#         'Min_humidity_percent','Avg_visibility_mi','Max_windspeed_mph','Avg_windspeed_mph','Max_windgust_mph',\n",
    "#         'Precipitation_in','Event_fog','Event_rain',Event_snow','Event_thunderstorm','Event_Hail']]\n",
    "X_train = np.array(X)"
   ]
  },
  {
   "cell_type": "code",
   "execution_count": 75,
   "metadata": {
    "collapsed": false
   },
   "outputs": [],
   "source": [
    "from sknn.mlp import Regressor, Layer"
   ]
  },
  {
   "cell_type": "code",
   "execution_count": 86,
   "metadata": {
    "collapsed": false
   },
   "outputs": [
    {
     "data": {
      "text/plain": [
       "Regressor(batch_size=10, callback=None, debug=False, dropout_rate=None,\n",
       "     f_stable=0.001,\n",
       "     hidden0=<sknn.nn.Layer `Tanh`: units=10, frozen=False, name='hidden0'>,\n",
       "     layers=[<sknn.nn.Layer `Tanh`: units=10, frozen=False, name='hidden0'>, <sknn.nn.Layer `Linear`: units=1, frozen=False, name='output'>],\n",
       "     learning_momentum=0.9, learning_rate=0.001, learning_rule='sgd',\n",
       "     loss_type=None, n_iter=1000, n_stable=10, normalize=None,\n",
       "     output=<sknn.nn.Layer `Linear`: units=1, frozen=False, name='output'>,\n",
       "     parameters=None, random_state=None, regularize=None, valid_set=None,\n",
       "     valid_size=0.0, verbose=None, warning=None, weight_decay=None)"
      ]
     },
     "execution_count": 86,
     "metadata": {},
     "output_type": "execute_result"
    }
   ],
   "source": [
    "nn = Regressor(\n",
    "    layers=[\n",
    "        Layer(\"Tanh\", units=10),\n",
    "        Layer(\"Linear\")],\n",
    "    learning_rate=0.001,\n",
    "    n_iter=1000,\n",
    "    batch_size = 10)\n",
    "nn.fit(X_train, Y_train)"
   ]
  },
  {
   "cell_type": "code",
   "execution_count": 87,
   "metadata": {
    "collapsed": false
   },
   "outputs": [],
   "source": [
    "Y_pred = np.round(nn.predict(X_train))"
   ]
  },
  {
   "cell_type": "code",
   "execution_count": 88,
   "metadata": {
    "collapsed": false
   },
   "outputs": [
    {
     "data": {
      "text/plain": [
       "2.2732465158279145"
      ]
     },
     "execution_count": 88,
     "metadata": {},
     "output_type": "execute_result"
    }
   ],
   "source": [
    "1/300*LA.norm(Y_pred-Y_train,2)"
   ]
  },
  {
   "cell_type": "code",
   "execution_count": 89,
   "metadata": {
    "collapsed": false
   },
   "outputs": [
    {
     "data": {
      "text/plain": [
       "0.94666666666666666"
      ]
     },
     "execution_count": 89,
     "metadata": {},
     "output_type": "execute_result"
    }
   ],
   "source": [
    "np.mean(Y_train)"
   ]
  },
  {
   "cell_type": "code",
   "execution_count": 99,
   "metadata": {
    "collapsed": false
   },
   "outputs": [
    {
     "data": {
      "image/png": "[encoded data removed]",
      "text/plain": [
       "<matplotlib.figure.Figure at 0x123bd4320>"
      ]
     },
     "metadata": {},
     "output_type": "display_data"
    }
   ],
   "source": [
    "plt.figure(figsize=(4,4))\n",
    "plt.scatter(Y_pred,Y_train)\n",
    "#plt.plot([0,50],[0,50],lw=4,color='black')\n",
    "plt.ylabel('real value')\n",
    "plt.xlabel('predcition')\n",
    "plt.show()"
   ]
  },
  {
   "cell_type": "code",
   "execution_count": null,
   "metadata": {
    "collapsed": true
   },
   "outputs": [],
   "source": []
  },
  {
   "cell_type": "code",
   "execution_count": null,
   "metadata": {
    "collapsed": true
   },
   "outputs": [],
   "source": []
  }
 ],
 "metadata": {
  "anaconda-cloud": {},
  "kernelspec": {
   "display_name": "Python [conda root]",
   "language": "python",
   "name": "conda-root-py"
  },
  "language_info": {
   "codemirror_mode": {
    "name": "ipython",
    "version": 3
   },
   "file_extension": ".py",
   "mimetype": "text/x-python",
   "name": "python",
   "nbconvert_exporter": "python",
   "pygments_lexer": "ipython3",
   "version": "3.5.2"
  }
 },
 "nbformat": 4,
 "nbformat_minor": 1
}
