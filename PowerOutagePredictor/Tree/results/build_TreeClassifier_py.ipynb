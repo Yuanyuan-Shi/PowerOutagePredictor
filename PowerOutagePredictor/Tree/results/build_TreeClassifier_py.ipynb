{
 "cells": [
  {
   "cell_type": "code",
   "execution_count": 22,
   "metadata": {
    "collapsed": true
   },
   "outputs": [],
   "source": [
    "\"\"\"\n",
    "predict the probabilities of outages falling into one of the three\n",
    "categories: 0-2, 3-7, 8+ outages.\n",
    "\n",
    "Params:\n",
    "\n",
    "weatherData - A pandas DataFrame with shape (# of samples, 7),\n",
    "where 7 represents the required features to make predictions. The\n",
    "required features in order are: day length (hrs), average temperature\n",
    "(F), average humidity (%), max windspeed (mph), average windspeed (mph),\n",
    "max windgust (mph), precipitation (in). For the tree-based method package,\n",
    "only 5 of the 7 features will be used for best results. Please name them\n",
    "as 'Day_length_hr','Avg_Temp_F','Avg_humidity_percent','Max_windspeed_mph',\n",
    "and 'Precipitation_in' respectively.\n",
    "\n",
    "method - a string representing a method supported\n",
    "         default method is ExtraTrees if no method specified\n",
    "        'dt' for DecisionTree,\n",
    "        'rf' for RandomForest, \n",
    "        'et' for ExtraTrees,                               \n",
    "        'ab' for AdaBoost\n",
    "        'gb' for GradientBoost\n",
    "        'bg' for Bagging\n",
    "\n",
    "Returns:\n",
    "Numpy array with shape (# of samples, 3). Columns 0, 1, and 2\n",
    "correspond to the 3 classes of outages 0-2, 3-7, and 8+, respectively,\n",
    "where the values are the probabilities. The order of the samples are\n",
    "maintained.\n",
    "\n",
    "Raises:\n",
    "ValueError - if shape of weatherData is not (:, 7)\n",
    "ValueError - if method is not one of 'dt', 'rf', 'et','ab','gb','bg' or None.\n",
    "\"\"\"\n",
    "\n",
    "import pandas as pd\n",
    "from sklearn import preprocessing\n",
    "from sklearn.externals import joblib\n",
    "\n",
    "def predictOutageProba(weatherData,method=None):\n",
    "    \"\"\"predict the probabilities of outages falling into one of the three\n",
    "categories: 0-2, 3-7, 8+ outages.\n",
    "\"\"\"\n",
    "    if weatherData.shape[1] != 7:\n",
    "        raise ValueError(\"7 features are required. See documentation.\")\n",
    "    if method == 'dt':\n",
    "        model = joblib.load('dt.pkl')\n",
    "    elif method == 'rf':\n",
    "        model = joblib.load('rf.pkl')\n",
    "    elif method == 'et' or method is None:\n",
    "        model = joblib.load('et.pkl')\n",
    "    elif method == 'ab':\n",
    "        model = joblib.load('ab.pkl')\n",
    "    elif method == 'gb':\n",
    "        model = joblib.load('gb.pkl')\n",
    "    elif method == 'bg':\n",
    "        model = joblib.load('bg.pkl')\n",
    "    else:\n",
    "        raise ValueError(\"method has to be 'dt', 'rf', 'et','ab','gb' or 'bg'\")\n",
    "    scaler = joblib.load(\"scaler.pkl\")\n",
    "    weather = weatherData[['Day_length_hr','Avg_Temp_F','Avg_humidity_percent',\n",
    "                           'Max_windspeed_mph','Precipitation_in']]\n",
    "    scaledData = scaler.transform(weather)\n",
    "    return model.predict_proba(scaledData)\n",
    "\n",
    "\"\"\"\n",
    "Predict the number outages falling into one of the three\n",
    "categories: 0-2, 3-7, 8+ outages.\n",
    "\n",
    "Params:\n",
    "\n",
    "weatherData - A numpy 2d array or like with shape (# of samples, 7),\n",
    "where 7 represents the required features to make predictions. The\n",
    "required features in order are: day length (hrs), average temperature\n",
    "(F), average humidity (%), max windspeed (mph), average windspeed (mph),\n",
    "max windgust (mph), precipitation (in). For the tree-based method package,\n",
    "only 5 of the 7 features will be used for best results. Please name them\n",
    "as 'Day_length_hr','Avg_Temp_F','Avg_humidity_percent','Max_windspeed_mph',\n",
    "and 'Precipitation_in' respectively.\n",
    "\n",
    "method - a string representing a method supported\n",
    "         default method is ExtraTrees if no method specified\n",
    "        'dt' for DecisionTree,\n",
    "        'rf' for RandomForest, \n",
    "        'et' for ExtraTrees,                               \n",
    "        'ab' for AdaBoost\n",
    "        'gb' for GradientBoost\n",
    "        'bg' for Bagging\n",
    "\n",
    "Returns:\n",
    "Numpy array with shape (# of samples, 1). The values 0, 1, and 2\n",
    "correspond to the 3 classes of outages 0-2, 3-7, and 8+, respectively.\n",
    "The order of the samples are maintained.\n",
    "\n",
    "Raises:\n",
    "ValueError - if shape of weatherData is not (:, 7)\n",
    "ValueError - if method is not one of 'dt', 'rf', 'et','ab','gb' or 'bg'.\n",
    "\"\"\"\n",
    "def predictOutage(weatherData,method=None):\n",
    "    \"\"\"Predict the number outages falling into one of the three\n",
    "categories: 0 (0-2), 1 (3-7), 2 (8+) outages.\"\"\"\n",
    "    if weatherData.shape[1] != 7:\n",
    "        raise ValueError(\"7 features are required. See documentation.\")\n",
    "    if method == 'dt':\n",
    "        model = joblib.load('dt.pkl')\n",
    "    elif method == 'rf':\n",
    "        model = joblib.load('rf.pkl')\n",
    "    elif method == 'et' or method is None:\n",
    "        model = joblib.load('et.pkl')\n",
    "    elif method == 'ab':\n",
    "        model = joblib.load('ab.pkl')\n",
    "    elif method == 'gb':\n",
    "        model = joblib.load('gb.pkl')\n",
    "    elif method == 'bg':\n",
    "        model = joblib.load('bg.pkl')\n",
    "    else:\n",
    "        raise ValueError(\"method has to be 'dt', 'rf', 'et','ab','gb' or 'bg'\")\n",
    "    scaler = joblib.load(\"scaler.pkl\")\n",
    "    weather = weatherData[['Day_length_hr','Avg_Temp_F','Avg_humidity_percent',\n",
    "                           'Max_windspeed_mph','Precipitation_in']]\n",
    "    scaledData = scaler.transform(weather)\n",
    "    return model.predict(scaledData)"
   ]
  },
  {
   "cell_type": "code",
   "execution_count": 23,
   "metadata": {
    "collapsed": false
   },
   "outputs": [
    {
     "data": {
      "text/html": [
       "<div>\n",
       "<table border=\"1\" class=\"dataframe\">\n",
       "  <thead>\n",
       "    <tr style=\"text-align: right;\">\n",
       "      <th></th>\n",
       "      <th>Avg_Temp_F</th>\n",
       "      <th>Avg_humidity_percent</th>\n",
       "      <th>Avg_windspeed_mph</th>\n",
       "      <th>Day_length_hr</th>\n",
       "      <th>Max_windgust_mph</th>\n",
       "      <th>Max_windspeed_mph</th>\n",
       "      <th>Precipitation_in</th>\n",
       "    </tr>\n",
       "  </thead>\n",
       "  <tbody>\n",
       "    <tr>\n",
       "      <th>0</th>\n",
       "      <td>38.0</td>\n",
       "      <td>85.0</td>\n",
       "      <td>7.0</td>\n",
       "      <td>11.0</td>\n",
       "      <td>20.0</td>\n",
       "      <td>16.0</td>\n",
       "      <td>0.33</td>\n",
       "    </tr>\n",
       "  </tbody>\n",
       "</table>\n",
       "</div>"
      ],
      "text/plain": [
       "   Avg_Temp_F  Avg_humidity_percent  Avg_windspeed_mph  Day_length_hr  \\\n",
       "0        38.0                  85.0                7.0           11.0   \n",
       "\n",
       "   Max_windgust_mph  Max_windspeed_mph  Precipitation_in  \n",
       "0              20.0               16.0              0.33  "
      ]
     },
     "execution_count": 23,
     "metadata": {},
     "output_type": "execute_result"
    }
   ],
   "source": [
    "import pandas as pd\n",
    "df = pd.DataFrame()\n",
    "weather = df.append({\"Day_length_hr\": 11, \n",
    "                \"Avg_Temp_F\": 38,\n",
    "                \"Avg_humidity_percent\": 85,\n",
    "                \"Max_windspeed_mph\": 16,\n",
    "                \"Avg_windspeed_mph\": 7,\n",
    "                \"Max_windgust_mph\": 20,\n",
    "                \"Precipitation_in\": 0.33},\n",
    "                ignore_index=True)\n",
    "weather"
   ]
  },
  {
   "cell_type": "code",
   "execution_count": 24,
   "metadata": {
    "collapsed": false
   },
   "outputs": [
    {
     "data": {
      "text/plain": [
       "array([ 2.])"
      ]
     },
     "execution_count": 24,
     "metadata": {},
     "output_type": "execute_result"
    }
   ],
   "source": [
    "a = predictOutage(weather,'dt')\n",
    "a"
   ]
  },
  {
   "cell_type": "code",
   "execution_count": 25,
   "metadata": {
    "collapsed": false
   },
   "outputs": [
    {
     "data": {
      "text/plain": [
       "array([[ 0.15498286,  0.13365825,  0.71135889]])"
      ]
     },
     "execution_count": 25,
     "metadata": {},
     "output_type": "execute_result"
    }
   ],
   "source": [
    "b = predictOutageProba(weather, 'dt')\n",
    "b"
   ]
  },
  {
   "cell_type": "code",
   "execution_count": 27,
   "metadata": {
    "collapsed": false
   },
   "outputs": [
    {
     "data": {
      "text/plain": [
       "array([ 0.])"
      ]
     },
     "execution_count": 27,
     "metadata": {},
     "output_type": "execute_result"
    }
   ],
   "source": [
    "a = predictOutage(weather)\n",
    "a"
   ]
  },
  {
   "cell_type": "code",
   "execution_count": null,
   "metadata": {
    "collapsed": true
   },
   "outputs": [],
   "source": []
  }
 ],
 "metadata": {
  "anaconda-cloud": {},
  "kernelspec": {
   "display_name": "Python [default]",
   "language": "python",
   "name": "python3"
  },
  "language_info": {
   "codemirror_mode": {
    "name": "ipython",
    "version": 3
   },
   "file_extension": ".py",
   "mimetype": "text/x-python",
   "name": "python",
   "nbconvert_exporter": "python",
   "pygments_lexer": "ipython3",
   "version": "3.5.2"
  }
 },
 "nbformat": 4,
 "nbformat_minor": 2
}
